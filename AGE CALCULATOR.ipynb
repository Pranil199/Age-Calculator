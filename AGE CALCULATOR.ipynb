{
 "cells": [
  {
   "cell_type": "code",
   "execution_count": 1,
   "id": "55f33d3c",
   "metadata": {},
   "outputs": [],
   "source": [
    "from datetime import date, datetime, timedelta"
   ]
  },
  {
   "cell_type": "code",
   "execution_count": 2,
   "id": "d76aa5a5",
   "metadata": {},
   "outputs": [],
   "source": [
    "def calculate_age(birthday):\n",
    "    today = date.today()\n",
    "    if today < birthday:\n",
    "        return \"Invalid birthdate. Please enter a valid date.\"\n",
    "    year_diff, month_diff, day_diff = today.year - birthday.year, today.month - birthday.month, today.day - birthday.day\n",
    "    if day_diff < 0:\n",
    "        month_diff -= 1\n",
    "        day_diff += (today.replace(day=1) - timedelta(days=1)).day\n",
    "    if month_diff < 0:\n",
    "        year_diff -= 1\n",
    "        month_diff += 12\n",
    "    return f\"Age: {year_diff} years, {month_diff} months, and {day_diff} days\""
   ]
  },
  {
   "cell_type": "code",
   "execution_count": 3,
   "id": "1a0fbebe",
   "metadata": {},
   "outputs": [
    {
     "name": "stdout",
     "output_type": "stream",
     "text": [
      "Enter the birthdate (DD/MM/YYYY): 23/03/1998\n",
      "Age: 26 years, 7 months, and 7 days\n"
     ]
    }
   ],
   "source": [
    "if __name__ == \"__main__\":\n",
    "    try:\n",
    "        birthdate_input = input(\"Enter the birthdate (DD/MM/YYYY): \")\n",
    "        dateOfBirth = datetime.strptime(birthdate_input, \"%d/%m/%Y\").date()\n",
    "        print(calculate_age(dateOfBirth))\n",
    "    except ValueError:\n",
    "        print(\"Invalid input. Please enter the date in the format DD/MM/YYYY.\")"
   ]
  },
  {
   "cell_type": "code",
   "execution_count": null,
   "id": "0c911cd7",
   "metadata": {},
   "outputs": [],
   "source": []
  }
 ],
 "metadata": {
  "kernelspec": {
   "display_name": "Python 3 (ipykernel)",
   "language": "python",
   "name": "python3"
  },
  "language_info": {
   "codemirror_mode": {
    "name": "ipython",
    "version": 3
   },
   "file_extension": ".py",
   "mimetype": "text/x-python",
   "name": "python",
   "nbconvert_exporter": "python",
   "pygments_lexer": "ipython3",
   "version": "3.11.5"
  }
 },
 "nbformat": 4,
 "nbformat_minor": 5
}
